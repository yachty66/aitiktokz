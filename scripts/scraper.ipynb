{
 "cells": [
  {
   "cell_type": "code",
   "execution_count": null,
   "id": "aab3cce6",
   "metadata": {},
   "outputs": [],
   "source": [
    "#i wanna pull each single image from here https://www.pinterest.com/lawsons415/surrealism/\n",
    "\n",
    "#what is the  best way to do this?"
   ]
  },
  {
   "cell_type": "code",
   "execution_count": null,
   "id": "aed93d55",
   "metadata": {},
   "outputs": [],
   "source": []
  }
 ],
 "metadata": {
  "kernelspec": {
   "display_name": "base",
   "language": "python",
   "name": "python3"
  },
  "language_info": {
   "name": "python",
   "version": "3.11.10"
  }
 },
 "nbformat": 4,
 "nbformat_minor": 5
}
